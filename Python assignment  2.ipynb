{
 "cells": [
  {
   "cell_type": "markdown",
   "metadata": {},
   "source": [
    "#### 1. Create the below pattern using nested for loop in Python."
   ]
  },
  {
   "cell_type": "code",
   "execution_count": 8,
   "metadata": {},
   "outputs": [
    {
     "name": "stdout",
     "output_type": "stream",
     "text": [
      "Enter number of stars to be printed5\n",
      "* \n",
      "\n",
      "* * \n",
      "\n",
      "* * * \n",
      "\n",
      "* * * * \n",
      "\n",
      "* * * * * \n",
      "\n",
      "* * * * \n",
      "\n",
      "* * * \n",
      "\n",
      "* * \n",
      "\n",
      "* \n",
      "\n",
      "\n",
      "\n"
     ]
    }
   ],
   "source": [
    "pos=int(input(\"Enter number of stars to be printed\"))\n",
    "for i in range(1,pos+1,1):              #Row increment\n",
    "    for j in range(1,i+1,1):            #Column increment\n",
    "        print(\"*\",end=' ')\n",
    "        if j==pos:                      #Starts decrement loop\n",
    "            print('\\n')\n",
    "            for k in range(pos-1,0,-1):\n",
    "                for y in range(k,0,-1):\n",
    "                    print(\"*\",end=' ')\n",
    "                print('\\n')\n",
    "                \n",
    "    print('\\n')\n",
    "\n",
    "            \n",
    "    "
   ]
  },
  {
   "cell_type": "markdown",
   "metadata": {},
   "source": [
    "#### 2. Write a Python program to reverse a word after accepting the input from the user."
   ]
  },
  {
   "cell_type": "code",
   "execution_count": 13,
   "metadata": {},
   "outputs": [
    {
     "name": "stdout",
     "output_type": "stream",
     "text": [
      "Enter the name which you want to be reveresedInueron\n",
      "noreunI\n"
     ]
    }
   ],
   "source": [
    "word=input(\"Enter the name which you want to be reveresed\")\n",
    "reverse_word=word[::-1]\n",
    "print(reverse_word)"
   ]
  }
 ],
 "metadata": {
  "kernelspec": {
   "display_name": "Python 3",
   "language": "python",
   "name": "python3"
  },
  "language_info": {
   "codemirror_mode": {
    "name": "ipython",
    "version": 3
   },
   "file_extension": ".py",
   "mimetype": "text/x-python",
   "name": "python",
   "nbconvert_exporter": "python",
   "pygments_lexer": "ipython3",
   "version": "3.8.5"
  }
 },
 "nbformat": 4,
 "nbformat_minor": 4
}
